{
 "cells": [
  {
   "cell_type": "code",
   "execution_count": 1,
   "metadata": {},
   "outputs": [],
   "source": [
    "from matplotlib import pyplot as plt\n",
    "import numpy as np\n",
    "from read_rosbag import yaml2dict"
   ]
  },
  {
   "cell_type": "code",
   "execution_count": 2,
   "metadata": {},
   "outputs": [],
   "source": [
    "messages = yaml2dict(\"0_0_0_0.bag.yaml\")\n",
    "messages_pf = yaml2dict(\"pf_0_0_0_0.bag.yaml\")"
   ]
  },
  {
   "cell_type": "code",
   "execution_count": 3,
   "metadata": {},
   "outputs": [],
   "source": [
    "i = 0\n",
    "j = 0\n",
    "trajectory    = []\n",
    "trajectory_pf = []\n",
    "while i < len(messages) and j < len(messages_pf):\n",
    "    if messages[i][\"header\"] is None:\n",
    "        i += 1\n",
    "        continue\n",
    "    if messages_pf[j] is None or messages_pf[j][\"header\"] is None:\n",
    "        j += 1\n",
    "        continue\n",
    "    if messages[i][\"header\"][\"seq\"] < messages_pf[j][\"header\"][\"seq\"]:\n",
    "        i += 1\n",
    "    elif messages[i][\"header\"][\"seq\"] > messages_pf[j][\"header\"][\"seq\"]:\n",
    "        j += 1\n",
    "    else:\n",
    "        trajectory.append([messages[i][\"pose\"][\"x\"], messages[i][\"pose\"][\"y\"]])\n",
    "        trajectory_pf.append([messages_pf[i][\"pose\"][\"x\"], messages_pf[i][\"pose\"][\"y\"]])\n",
    "        i += 1; j += 1\n",
    "trajectory    = np.array(trajectory)\n",
    "trajectory_pf = np.array(trajectory_pf)"
   ]
  },
  {
   "cell_type": "code",
   "execution_count": 4,
   "metadata": {},
   "outputs": [
    {
     "data": {
      "image/png": "[encoded data removed]",
      "text/plain": [
       "<matplotlib.figure.Figure at 0x7fed9e5109e8>"
      ]
     },
     "metadata": {
      "needs_background": "light"
     },
     "output_type": "display_data"
    }
   ],
   "source": [
    "# two lines overlap\n",
    "plt.plot(trajectory[:,0], trajectory[:,1], label=\"original\")\n",
    "plt.plot(trajectory_pf[:,0], trajectory_pf[:,1], label=\"particle filter\")\n",
    "plt.legend()\n",
    "plt.show()"
   ]
  }
 ],
 "metadata": {
  "interpreter": {
   "hash": "31f2aee4e71d21fbe5cf8b01ff0e069b9275f58929596ceb00d14d90e3e16cd6"
  },
  "kernelspec": {
   "display_name": "Python 3.6.9 64-bit",
   "language": "python",
   "name": "python3"
  },
  "language_info": {
   "codemirror_mode": {
    "name": "ipython",
    "version": 3
   },
   "file_extension": ".py",
   "mimetype": "text/x-python",
   "name": "python",
   "nbconvert_exporter": "python",
   "pygments_lexer": "ipython3",
   "version": "3.6.9"
  },
  "orig_nbformat": 4
 },
 "nbformat": 4,
 "nbformat_minor": 2
}
